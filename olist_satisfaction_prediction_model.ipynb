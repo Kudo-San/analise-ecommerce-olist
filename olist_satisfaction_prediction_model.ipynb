{
 "cells": [
  {
   "cell_type": "markdown",
   "id": "43121989",
   "metadata": {},
   "source": [
    "# Modelo de Machine Learning: Previsão de Satisfação do Cliente"
   ]
  },
  {
   "cell_type": "markdown",
   "id": "13e4651a",
   "metadata": {},
   "source": [
    "\n",
    "**Objetivo do Projeto:** Desenvolvi um modelo de classificação que consegue prever, analisando os dados de um pedido, se um cliente vai ficar insatisfeito - ou seja, dar notas 1, 2 ou 3 na avaliação.\n",
    "\n",
    "**Por Que Isso Importa para a Empresa:** Esse modelo é estratégico porque vai permite agir antes que o problema acontece. Quando identificado um pedido com alta chance de gerar insatisfação, podemos tomar medidas proativas - como entrar em contato com o cliente, resolver possíveis problemas ou oferecer algum benefício - para transformar uma experiência negativa em positiva antes mesmo dela se concretizar.\n",
    "\n",
    "**Metodologia:** O projeto segue o pipeline padrão de Machine Learning: preparação dos dados, engenharia de atributos, pré-processamento, treinamento do modelo, avaliação e interpretação dos resultados."
   ]
  },
  {
   "cell_type": "code",
   "execution_count": 1,
   "id": "9fbd25d4",
   "metadata": {},
   "outputs": [],
   "source": [
    "# ---  1: SETUP INICIAL ---\n",
    "\n",
    "# Importando as bibliotecas que vou utilizar:\n",
    "import pandas as pd\n",
    "import seaborn as sns\n",
    "import matplotlib.pyplot as plt\n",
    "import os"
   ]
  },
  {
   "cell_type": "code",
   "execution_count": 2,
   "id": "93f2ff7a",
   "metadata": {},
   "outputs": [],
   "source": [
    "# --- 2: CARREGAMENTO E CRIAÇÃO DO DATAFRAME COMPLETO ---\n",
    "# Para este notebook de Machine Learning, vou recriar o Dataframe mestre de forma limpa.\n",
    "\n",
    "# O caminho da pasta onde os arquivos .csv estão guardados:\n",
    "caminho_da_pasta = r\"C:\\Users\\User\\Desktop\\Pasta de projeto Kaggle\\Analise_E-commerce\\dados\"\n",
    "\n",
    "# Dicionário com os nomes dos arquivos que preciso:\n",
    "nomes_dos_arquivos = {\n",
    "    'customers': 'olist_customers_dataset.csv',\n",
    "    'order_items': 'olist_order_items_dataset.csv',\n",
    "    'order_payments': 'olist_order_payments_dataset.csv',\n",
    "    'orders': 'olist_orders_dataset.csv',\n",
    "    'products': 'olist_products_dataset.csv',\n",
    "    'order_reviews': 'olist_order_reviews_dataset.csv',\n",
    "    'sellers': 'olist_sellers_dataset.csv'\n",
    "}"
   ]
  },
  {
   "cell_type": "code",
   "execution_count": 3,
   "id": "394a8c60",
   "metadata": {},
   "outputs": [
    {
     "name": "stdout",
     "output_type": "stream",
     "text": [
      "Carregando os dados...\n",
      "\n",
      "DADOS CARREGADO COM SUCESSO!\n",
      "\n",
      "DATAFRAME FINAL ('df_final') CRIADO COM SUCESSO!\n"
     ]
    }
   ],
   "source": [
    "# --- 3: CARREGANDO OS ARQUIVOS E CRIANDO UM MERGE ---\n",
    "\n",
    "# Carregando cada arquivo em um Dataframe do pandas\n",
    "dataframes = {}\n",
    "print(\"Carregando os dados...\")\n",
    "for nome_df, nome_arquivo in nomes_dos_arquivos.items():\n",
    "    caminho_completo = os.path.join(caminho_da_pasta, nome_arquivo)\n",
    "    dataframes[nome_df] = pd.read_csv(caminho_completo)\n",
    "print(\"\\nDADOS CARREGADO COM SUCESSO!\")\n",
    "\n",
    "# ---------------------------------------------------------------------------\n",
    "\n",
    "# Juntando (merge) as tabelas para criar o DataFrame mestre\n",
    "df_merged = pd.merge(dataframes['orders'], dataframes['customers'], on='customer_id', how='left')\n",
    "df_completo = pd.merge(df_merged, dataframes['order_payments'], on='order_id', how='left')\n",
    "df_completo = pd.merge(df_completo, dataframes['order_items'], on='order_id', how='left')\n",
    "df_completo = pd.merge(df_completo, dataframes['products'], on='product_id', how='left')\n",
    "df_final = pd.merge(df_completo, dataframes['order_reviews'], on='order_id', how='left')\n",
    "\n",
    "# Convertendo as colunas de data, que são essenciais\n",
    "colunas_de_data = ['order_purchase_timestamp', 'order_delivered_customer_date', 'order_estimated_delivery_date']\n",
    "for col in colunas_de_data:\n",
    "    df_final[col] = pd.to_datetime(df_final[col], errors='coerce') # 'errors=coerce' transforma datas inválidas em Nulo (NaN)\n",
    "\n",
    "print(\"\\nDATAFRAME FINAL ('df_final') CRIADO COM SUCESSO!\")"
   ]
  },
  {
   "cell_type": "markdown",
   "id": "3caefb68",
   "metadata": {},
   "source": [
    "     Definido o problema e a variável"
   ]
  },
  {
   "cell_type": "code",
   "execution_count": 4,
   "id": "cc898f04",
   "metadata": {},
   "outputs": [
    {
     "name": "stdout",
     "output_type": "stream",
     "text": [
      "\n",
      "COLUNA 'insatisfeito' (variável alvo) CRIOADA COM SUCESSO!.\n"
     ]
    }
   ],
   "source": [
    "# --- 4: DEFINIÇÃO DO PROBLEMA E VARIÁVEL ALVO ---\n",
    "\n",
    "# 1. Objetivo é prever a insatisfação. Vou definir \"insatisfeito\" como uma nota de avaliação de 1, 2 ou 3.\n",
    "\n",
    "# 2. A função .apply() passa por cada valor da coluna 'review_score' e aplica uma regra.\n",
    "\n",
    "# 3. A regra (lambda x: ...) diz: \"se o valor (x) for menor ou igual a 3, retorne 1. Senão, retorne 0.\"\n",
    "df_final['insatisfeito'] = df_final['review_score'].apply(lambda x: 1 if x <= 3 else 0)\n",
    "\n",
    "print(\"\\nCOLUNA 'insatisfeito' (variável alvo) CRIOADA COM SUCESSO!.\")\n"
   ]
  },
  {
   "cell_type": "code",
   "execution_count": 5,
   "id": "7a210520",
   "metadata": {},
   "outputs": [
    {
     "name": "stdout",
     "output_type": "stream",
     "text": [
      "--- INCLUÍDO DADOS DOS VENDEDORES... ---\n",
      "\n",
      "DADOS DOS VENDEDORES INCLUÍDOS COM SUCESSO!\n"
     ]
    }
   ],
   "source": [
    "# --- 5: JUNTAR OS DADOS DOS VENDEDORES ---\n",
    "\n",
    "# Esta Vai juntar a tabela de vendedores.\n",
    "print(\"--- INCLUÍDO DADOS DOS VENDEDORES... ---\")\n",
    "df_sellers = dataframes['sellers']\n",
    "df_final_com_sellers = pd.merge(df_final, df_sellers, on='seller_id', how='left')\n",
    "print(\"\\nDADOS DOS VENDEDORES INCLUÍDOS COM SUCESSO!\")"
   ]
  },
  {
   "cell_type": "code",
   "execution_count": 6,
   "id": "d7a281f0",
   "metadata": {},
   "outputs": [
    {
     "name": "stdout",
     "output_type": "stream",
     "text": [
      "\n",
      "DATAFRAME PARA O MODELO CRIADO COM 114081 AMOSTRA (linhas completas).\n",
      "\n",
      "--- AMOSTRA DO DATAFRAME DO MODELO ('df_model') ---\n"
     ]
    },
    {
     "data": {
      "application/vnd.microsoft.datawrangler.viewer.v0+json": {
       "columns": [
        {
         "name": "index",
         "rawType": "int64",
         "type": "integer"
        },
        {
         "name": "payment_value",
         "rawType": "float64",
         "type": "float"
        },
        {
         "name": "freight_value",
         "rawType": "float64",
         "type": "float"
        },
        {
         "name": "tempo_de_entrega",
         "rawType": "float64",
         "type": "float"
        },
        {
         "name": "diferenca_estimativa_entrega",
         "rawType": "float64",
         "type": "float"
        },
        {
         "name": "payment_installments",
         "rawType": "float64",
         "type": "float"
        },
        {
         "name": "product_category_name",
         "rawType": "object",
         "type": "string"
        },
        {
         "name": "customer_state",
         "rawType": "object",
         "type": "string"
        },
        {
         "name": "seller_state",
         "rawType": "object",
         "type": "string"
        },
        {
         "name": "insatisfeito",
         "rawType": "int64",
         "type": "integer"
        }
       ],
       "ref": "1218d8b1-5db4-4384-8a34-1952f0905c41",
       "rows": [
        [
         "0",
         "18.12",
         "8.72",
         "8.0",
         "-8.0",
         "1.0",
         "utilidades_domesticas",
         "SP",
         "SP",
         "0"
        ],
        [
         "1",
         "2.0",
         "8.72",
         "8.0",
         "-8.0",
         "1.0",
         "utilidades_domesticas",
         "SP",
         "SP",
         "0"
        ],
        [
         "2",
         "18.59",
         "8.72",
         "8.0",
         "-8.0",
         "1.0",
         "utilidades_domesticas",
         "SP",
         "SP",
         "0"
        ],
        [
         "3",
         "141.46",
         "22.76",
         "13.0",
         "-6.0",
         "1.0",
         "perfumaria",
         "BA",
         "SP",
         "0"
        ],
        [
         "4",
         "179.12",
         "19.22",
         "9.0",
         "-18.0",
         "3.0",
         "automotivo",
         "GO",
         "SP",
         "0"
        ]
       ],
       "shape": {
        "columns": 9,
        "rows": 5
       }
      },
      "text/html": [
       "<div>\n",
       "<style scoped>\n",
       "    .dataframe tbody tr th:only-of-type {\n",
       "        vertical-align: middle;\n",
       "    }\n",
       "\n",
       "    .dataframe tbody tr th {\n",
       "        vertical-align: top;\n",
       "    }\n",
       "\n",
       "    .dataframe thead th {\n",
       "        text-align: right;\n",
       "    }\n",
       "</style>\n",
       "<table border=\"1\" class=\"dataframe\">\n",
       "  <thead>\n",
       "    <tr style=\"text-align: right;\">\n",
       "      <th></th>\n",
       "      <th>payment_value</th>\n",
       "      <th>freight_value</th>\n",
       "      <th>tempo_de_entrega</th>\n",
       "      <th>diferenca_estimativa_entrega</th>\n",
       "      <th>payment_installments</th>\n",
       "      <th>product_category_name</th>\n",
       "      <th>customer_state</th>\n",
       "      <th>seller_state</th>\n",
       "      <th>insatisfeito</th>\n",
       "    </tr>\n",
       "  </thead>\n",
       "  <tbody>\n",
       "    <tr>\n",
       "      <th>0</th>\n",
       "      <td>18.12</td>\n",
       "      <td>8.72</td>\n",
       "      <td>8.0</td>\n",
       "      <td>-8.0</td>\n",
       "      <td>1.0</td>\n",
       "      <td>utilidades_domesticas</td>\n",
       "      <td>SP</td>\n",
       "      <td>SP</td>\n",
       "      <td>0</td>\n",
       "    </tr>\n",
       "    <tr>\n",
       "      <th>1</th>\n",
       "      <td>2.00</td>\n",
       "      <td>8.72</td>\n",
       "      <td>8.0</td>\n",
       "      <td>-8.0</td>\n",
       "      <td>1.0</td>\n",
       "      <td>utilidades_domesticas</td>\n",
       "      <td>SP</td>\n",
       "      <td>SP</td>\n",
       "      <td>0</td>\n",
       "    </tr>\n",
       "    <tr>\n",
       "      <th>2</th>\n",
       "      <td>18.59</td>\n",
       "      <td>8.72</td>\n",
       "      <td>8.0</td>\n",
       "      <td>-8.0</td>\n",
       "      <td>1.0</td>\n",
       "      <td>utilidades_domesticas</td>\n",
       "      <td>SP</td>\n",
       "      <td>SP</td>\n",
       "      <td>0</td>\n",
       "    </tr>\n",
       "    <tr>\n",
       "      <th>3</th>\n",
       "      <td>141.46</td>\n",
       "      <td>22.76</td>\n",
       "      <td>13.0</td>\n",
       "      <td>-6.0</td>\n",
       "      <td>1.0</td>\n",
       "      <td>perfumaria</td>\n",
       "      <td>BA</td>\n",
       "      <td>SP</td>\n",
       "      <td>0</td>\n",
       "    </tr>\n",
       "    <tr>\n",
       "      <th>4</th>\n",
       "      <td>179.12</td>\n",
       "      <td>19.22</td>\n",
       "      <td>9.0</td>\n",
       "      <td>-18.0</td>\n",
       "      <td>3.0</td>\n",
       "      <td>automotivo</td>\n",
       "      <td>GO</td>\n",
       "      <td>SP</td>\n",
       "      <td>0</td>\n",
       "    </tr>\n",
       "  </tbody>\n",
       "</table>\n",
       "</div>"
      ],
      "text/plain": [
       "   payment_value  freight_value  tempo_de_entrega  \\\n",
       "0          18.12           8.72               8.0   \n",
       "1           2.00           8.72               8.0   \n",
       "2          18.59           8.72               8.0   \n",
       "3         141.46          22.76              13.0   \n",
       "4         179.12          19.22               9.0   \n",
       "\n",
       "   diferenca_estimativa_entrega  payment_installments  product_category_name  \\\n",
       "0                          -8.0                   1.0  utilidades_domesticas   \n",
       "1                          -8.0                   1.0  utilidades_domesticas   \n",
       "2                          -8.0                   1.0  utilidades_domesticas   \n",
       "3                          -6.0                   1.0             perfumaria   \n",
       "4                         -18.0                   3.0             automotivo   \n",
       "\n",
       "  customer_state seller_state  insatisfeito  \n",
       "0             SP           SP             0  \n",
       "1             SP           SP             0  \n",
       "2             SP           SP             0  \n",
       "3             BA           SP             0  \n",
       "4             GO           SP             0  "
      ]
     },
     "execution_count": 6,
     "metadata": {},
     "output_type": "execute_result"
    }
   ],
   "source": [
    "# --- 6: ENGENHARIA E SELEÇÃO DE ATRIBUTOS (FEATURES) ---\n",
    "\n",
    "# Criando as features de tempo onde na EDA mostrou na análise ser muito importantes:\n",
    "df_final_com_sellers['tempo_de_entrega'] = (df_final_com_sellers['order_delivered_customer_date'] - df_final_com_sellers['order_purchase_timestamp']).dt.days\n",
    "df_final_com_sellers['diferenca_estimativa_entrega'] = (df_final_com_sellers['order_delivered_customer_date'] - df_final_com_sellers['order_estimated_delivery_date']).dt.days\n",
    "\n",
    "# Aqui vou selecionar as 'pistas' (features) que darei ao modelo para ele aprender.\n",
    "# É uma combinação de informações sobre o pagamento, a logística, o produto e a localização:\n",
    "features = [\n",
    "    'payment_value',               # Valor do pagamento\n",
    "    'freight_value',               # Valor do frete\n",
    "    'tempo_de_entrega',            # Dias que demorou para entregar\n",
    "    'diferenca_estimativa_entrega',# Dias de atraso/adianto\n",
    "    'payment_installments',        # Número de parcelas\n",
    "    'product_category_name',       # Categoria do produto\n",
    "    'customer_state',              # Estado do cliente\n",
    "    'seller_state'                 # Estado do vendedor\n",
    "]\n",
    "\n",
    "alvo = 'insatisfeito' # O nome da variável alvo\n",
    "\n",
    "# Criando um Dataframe final para o modelo.\n",
    "# O 'df_final_com_sellers' tem todas as colunas.\n",
    "df_model = df_final_com_sellers[features + [alvo]].dropna()\n",
    "\n",
    "print(f\"\\nDATAFRAME PARA O MODELO CRIADO COM {len(df_model)} AMOSTRA (linhas completas).\")\n",
    "print(\"\\n--- AMOSTRA DO DATAFRAME DO MODELO ('df_model') ---\")\n",
    "df_model.head()"
   ]
  },
  {
   "cell_type": "markdown",
   "id": "7c999bb8",
   "metadata": {},
   "source": [
    "### Pré-processamento: Convertendo Texto em Números\n",
    "\n",
    "Modelos de Machine Learning são algoritmos matemáticos e não entendem texto (como 'SP' ou 'cama_mesa_banho'). \n",
    "Portanto, foi preciso transformar as features categóricas em um formato numérico. Para isso, utilizei técnica de **One-Hot Encoding**."
   ]
  },
  {
   "cell_type": "code",
   "execution_count": 7,
   "id": "b80eef65",
   "metadata": {},
   "outputs": [
    {
     "name": "stdout",
     "output_type": "stream",
     "text": [
      "INIICIANDO O PRÉ-PROCESSAMENTO PARA TRASNFORMAR TEXTO EM NÚMEROS...\n",
      "\n",
      "ESSAS SÃO AS COLUNAS DE TEXTO QUE SERÃO TRASNFOMARDAS: ['product_category_name', 'customer_state', 'seller_state']\n",
      "\n",
      "PRÉ-PROCESSAMENTO CONCLUÍDO!\n",
      "O número de colunas (features) aumentou de 8 para 124.\n",
      "\n",
      "--- Amostra do DataFrame 100% Numérico ('X_encoded') ---\n"
     ]
    },
    {
     "data": {
      "application/vnd.microsoft.datawrangler.viewer.v0+json": {
       "columns": [
        {
         "name": "index",
         "rawType": "int64",
         "type": "integer"
        },
        {
         "name": "payment_value",
         "rawType": "float64",
         "type": "float"
        },
        {
         "name": "freight_value",
         "rawType": "float64",
         "type": "float"
        },
        {
         "name": "tempo_de_entrega",
         "rawType": "float64",
         "type": "float"
        },
        {
         "name": "diferenca_estimativa_entrega",
         "rawType": "float64",
         "type": "float"
        },
        {
         "name": "payment_installments",
         "rawType": "float64",
         "type": "float"
        },
        {
         "name": "product_category_name_alimentos",
         "rawType": "bool",
         "type": "boolean"
        },
        {
         "name": "product_category_name_alimentos_bebidas",
         "rawType": "bool",
         "type": "boolean"
        },
        {
         "name": "product_category_name_artes",
         "rawType": "bool",
         "type": "boolean"
        },
        {
         "name": "product_category_name_artes_e_artesanato",
         "rawType": "bool",
         "type": "boolean"
        },
        {
         "name": "product_category_name_artigos_de_festas",
         "rawType": "bool",
         "type": "boolean"
        },
        {
         "name": "product_category_name_artigos_de_natal",
         "rawType": "bool",
         "type": "boolean"
        },
        {
         "name": "product_category_name_audio",
         "rawType": "bool",
         "type": "boolean"
        },
        {
         "name": "product_category_name_automotivo",
         "rawType": "bool",
         "type": "boolean"
        },
        {
         "name": "product_category_name_bebes",
         "rawType": "bool",
         "type": "boolean"
        },
        {
         "name": "product_category_name_bebidas",
         "rawType": "bool",
         "type": "boolean"
        },
        {
         "name": "product_category_name_beleza_saude",
         "rawType": "bool",
         "type": "boolean"
        },
        {
         "name": "product_category_name_brinquedos",
         "rawType": "bool",
         "type": "boolean"
        },
        {
         "name": "product_category_name_cama_mesa_banho",
         "rawType": "bool",
         "type": "boolean"
        },
        {
         "name": "product_category_name_casa_conforto",
         "rawType": "bool",
         "type": "boolean"
        },
        {
         "name": "product_category_name_casa_conforto_2",
         "rawType": "bool",
         "type": "boolean"
        },
        {
         "name": "product_category_name_casa_construcao",
         "rawType": "bool",
         "type": "boolean"
        },
        {
         "name": "product_category_name_cds_dvds_musicais",
         "rawType": "bool",
         "type": "boolean"
        },
        {
         "name": "product_category_name_cine_foto",
         "rawType": "bool",
         "type": "boolean"
        },
        {
         "name": "product_category_name_climatizacao",
         "rawType": "bool",
         "type": "boolean"
        },
        {
         "name": "product_category_name_consoles_games",
         "rawType": "bool",
         "type": "boolean"
        },
        {
         "name": "product_category_name_construcao_ferramentas_construcao",
         "rawType": "bool",
         "type": "boolean"
        },
        {
         "name": "product_category_name_construcao_ferramentas_ferramentas",
         "rawType": "bool",
         "type": "boolean"
        },
        {
         "name": "product_category_name_construcao_ferramentas_iluminacao",
         "rawType": "bool",
         "type": "boolean"
        },
        {
         "name": "product_category_name_construcao_ferramentas_jardim",
         "rawType": "bool",
         "type": "boolean"
        },
        {
         "name": "product_category_name_construcao_ferramentas_seguranca",
         "rawType": "bool",
         "type": "boolean"
        },
        {
         "name": "product_category_name_cool_stuff",
         "rawType": "bool",
         "type": "boolean"
        },
        {
         "name": "product_category_name_dvds_blu_ray",
         "rawType": "bool",
         "type": "boolean"
        },
        {
         "name": "product_category_name_eletrodomesticos",
         "rawType": "bool",
         "type": "boolean"
        },
        {
         "name": "product_category_name_eletrodomesticos_2",
         "rawType": "bool",
         "type": "boolean"
        },
        {
         "name": "product_category_name_eletronicos",
         "rawType": "bool",
         "type": "boolean"
        },
        {
         "name": "product_category_name_eletroportateis",
         "rawType": "bool",
         "type": "boolean"
        },
        {
         "name": "product_category_name_esporte_lazer",
         "rawType": "bool",
         "type": "boolean"
        },
        {
         "name": "product_category_name_fashion_bolsas_e_acessorios",
         "rawType": "bool",
         "type": "boolean"
        },
        {
         "name": "product_category_name_fashion_calcados",
         "rawType": "bool",
         "type": "boolean"
        },
        {
         "name": "product_category_name_fashion_esporte",
         "rawType": "bool",
         "type": "boolean"
        },
        {
         "name": "product_category_name_fashion_roupa_feminina",
         "rawType": "bool",
         "type": "boolean"
        },
        {
         "name": "product_category_name_fashion_roupa_infanto_juvenil",
         "rawType": "bool",
         "type": "boolean"
        },
        {
         "name": "product_category_name_fashion_roupa_masculina",
         "rawType": "bool",
         "type": "boolean"
        },
        {
         "name": "product_category_name_fashion_underwear_e_moda_praia",
         "rawType": "bool",
         "type": "boolean"
        },
        {
         "name": "product_category_name_ferramentas_jardim",
         "rawType": "bool",
         "type": "boolean"
        },
        {
         "name": "product_category_name_flores",
         "rawType": "bool",
         "type": "boolean"
        },
        {
         "name": "product_category_name_fraldas_higiene",
         "rawType": "bool",
         "type": "boolean"
        },
        {
         "name": "product_category_name_industria_comercio_e_negocios",
         "rawType": "bool",
         "type": "boolean"
        },
        {
         "name": "product_category_name_informatica_acessorios",
         "rawType": "bool",
         "type": "boolean"
        },
        {
         "name": "product_category_name_instrumentos_musicais",
         "rawType": "bool",
         "type": "boolean"
        },
        {
         "name": "product_category_name_la_cuisine",
         "rawType": "bool",
         "type": "boolean"
        },
        {
         "name": "product_category_name_livros_importados",
         "rawType": "bool",
         "type": "boolean"
        },
        {
         "name": "product_category_name_livros_interesse_geral",
         "rawType": "bool",
         "type": "boolean"
        },
        {
         "name": "product_category_name_livros_tecnicos",
         "rawType": "bool",
         "type": "boolean"
        },
        {
         "name": "product_category_name_malas_acessorios",
         "rawType": "bool",
         "type": "boolean"
        },
        {
         "name": "product_category_name_market_place",
         "rawType": "bool",
         "type": "boolean"
        },
        {
         "name": "product_category_name_moveis_colchao_e_estofado",
         "rawType": "bool",
         "type": "boolean"
        },
        {
         "name": "product_category_name_moveis_cozinha_area_de_servico_jantar_e_jardim",
         "rawType": "bool",
         "type": "boolean"
        },
        {
         "name": "product_category_name_moveis_decoracao",
         "rawType": "bool",
         "type": "boolean"
        },
        {
         "name": "product_category_name_moveis_escritorio",
         "rawType": "bool",
         "type": "boolean"
        },
        {
         "name": "product_category_name_moveis_quarto",
         "rawType": "bool",
         "type": "boolean"
        },
        {
         "name": "product_category_name_moveis_sala",
         "rawType": "bool",
         "type": "boolean"
        },
        {
         "name": "product_category_name_musica",
         "rawType": "bool",
         "type": "boolean"
        },
        {
         "name": "product_category_name_papelaria",
         "rawType": "bool",
         "type": "boolean"
        },
        {
         "name": "product_category_name_pc_gamer",
         "rawType": "bool",
         "type": "boolean"
        },
        {
         "name": "product_category_name_pcs",
         "rawType": "bool",
         "type": "boolean"
        },
        {
         "name": "product_category_name_perfumaria",
         "rawType": "bool",
         "type": "boolean"
        },
        {
         "name": "product_category_name_pet_shop",
         "rawType": "bool",
         "type": "boolean"
        },
        {
         "name": "product_category_name_portateis_casa_forno_e_cafe",
         "rawType": "bool",
         "type": "boolean"
        },
        {
         "name": "product_category_name_portateis_cozinha_e_preparadores_de_alimentos",
         "rawType": "bool",
         "type": "boolean"
        },
        {
         "name": "product_category_name_relogios_presentes",
         "rawType": "bool",
         "type": "boolean"
        },
        {
         "name": "product_category_name_seguros_e_servicos",
         "rawType": "bool",
         "type": "boolean"
        },
        {
         "name": "product_category_name_sinalizacao_e_seguranca",
         "rawType": "bool",
         "type": "boolean"
        },
        {
         "name": "product_category_name_tablets_impressao_imagem",
         "rawType": "bool",
         "type": "boolean"
        },
        {
         "name": "product_category_name_telefonia",
         "rawType": "bool",
         "type": "boolean"
        },
        {
         "name": "product_category_name_telefonia_fixa",
         "rawType": "bool",
         "type": "boolean"
        },
        {
         "name": "product_category_name_utilidades_domesticas",
         "rawType": "bool",
         "type": "boolean"
        },
        {
         "name": "customer_state_AL",
         "rawType": "bool",
         "type": "boolean"
        },
        {
         "name": "customer_state_AM",
         "rawType": "bool",
         "type": "boolean"
        },
        {
         "name": "customer_state_AP",
         "rawType": "bool",
         "type": "boolean"
        },
        {
         "name": "customer_state_BA",
         "rawType": "bool",
         "type": "boolean"
        },
        {
         "name": "customer_state_CE",
         "rawType": "bool",
         "type": "boolean"
        },
        {
         "name": "customer_state_DF",
         "rawType": "bool",
         "type": "boolean"
        },
        {
         "name": "customer_state_ES",
         "rawType": "bool",
         "type": "boolean"
        },
        {
         "name": "customer_state_GO",
         "rawType": "bool",
         "type": "boolean"
        },
        {
         "name": "customer_state_MA",
         "rawType": "bool",
         "type": "boolean"
        },
        {
         "name": "customer_state_MG",
         "rawType": "bool",
         "type": "boolean"
        },
        {
         "name": "customer_state_MS",
         "rawType": "bool",
         "type": "boolean"
        },
        {
         "name": "customer_state_MT",
         "rawType": "bool",
         "type": "boolean"
        },
        {
         "name": "customer_state_PA",
         "rawType": "bool",
         "type": "boolean"
        },
        {
         "name": "customer_state_PB",
         "rawType": "bool",
         "type": "boolean"
        },
        {
         "name": "customer_state_PE",
         "rawType": "bool",
         "type": "boolean"
        },
        {
         "name": "customer_state_PI",
         "rawType": "bool",
         "type": "boolean"
        },
        {
         "name": "customer_state_PR",
         "rawType": "bool",
         "type": "boolean"
        },
        {
         "name": "customer_state_RJ",
         "rawType": "bool",
         "type": "boolean"
        },
        {
         "name": "customer_state_RN",
         "rawType": "bool",
         "type": "boolean"
        },
        {
         "name": "customer_state_RO",
         "rawType": "bool",
         "type": "boolean"
        },
        {
         "name": "customer_state_RR",
         "rawType": "bool",
         "type": "boolean"
        },
        {
         "name": "customer_state_RS",
         "rawType": "bool",
         "type": "boolean"
        },
        {
         "name": "customer_state_SC",
         "rawType": "bool",
         "type": "boolean"
        },
        {
         "name": "customer_state_SE",
         "rawType": "bool",
         "type": "boolean"
        },
        {
         "name": "customer_state_SP",
         "rawType": "bool",
         "type": "boolean"
        },
        {
         "name": "customer_state_TO",
         "rawType": "bool",
         "type": "boolean"
        },
        {
         "name": "seller_state_BA",
         "rawType": "bool",
         "type": "boolean"
        },
        {
         "name": "seller_state_CE",
         "rawType": "bool",
         "type": "boolean"
        },
        {
         "name": "seller_state_DF",
         "rawType": "bool",
         "type": "boolean"
        },
        {
         "name": "seller_state_ES",
         "rawType": "bool",
         "type": "boolean"
        },
        {
         "name": "seller_state_GO",
         "rawType": "bool",
         "type": "boolean"
        },
        {
         "name": "seller_state_MA",
         "rawType": "bool",
         "type": "boolean"
        },
        {
         "name": "seller_state_MG",
         "rawType": "bool",
         "type": "boolean"
        },
        {
         "name": "seller_state_MS",
         "rawType": "bool",
         "type": "boolean"
        },
        {
         "name": "seller_state_MT",
         "rawType": "bool",
         "type": "boolean"
        },
        {
         "name": "seller_state_PA",
         "rawType": "bool",
         "type": "boolean"
        },
        {
         "name": "seller_state_PB",
         "rawType": "bool",
         "type": "boolean"
        },
        {
         "name": "seller_state_PE",
         "rawType": "bool",
         "type": "boolean"
        },
        {
         "name": "seller_state_PI",
         "rawType": "bool",
         "type": "boolean"
        },
        {
         "name": "seller_state_PR",
         "rawType": "bool",
         "type": "boolean"
        },
        {
         "name": "seller_state_RJ",
         "rawType": "bool",
         "type": "boolean"
        },
        {
         "name": "seller_state_RN",
         "rawType": "bool",
         "type": "boolean"
        },
        {
         "name": "seller_state_RO",
         "rawType": "bool",
         "type": "boolean"
        },
        {
         "name": "seller_state_RS",
         "rawType": "bool",
         "type": "boolean"
        },
        {
         "name": "seller_state_SC",
         "rawType": "bool",
         "type": "boolean"
        },
        {
         "name": "seller_state_SE",
         "rawType": "bool",
         "type": "boolean"
        },
        {
         "name": "seller_state_SP",
         "rawType": "bool",
         "type": "boolean"
        }
       ],
       "ref": "0cdd656a-c718-4908-8f59-d6d167930549",
       "rows": [
        [
         "0",
         "18.12",
         "8.72",
         "8.0",
         "-8.0",
         "1.0",
         "False",
         "False",
         "False",
         "False",
         "False",
         "False",
         "False",
         "False",
         "False",
         "False",
         "False",
         "False",
         "False",
         "False",
         "False",
         "False",
         "False",
         "False",
         "False",
         "False",
         "False",
         "False",
         "False",
         "False",
         "False",
         "False",
         "False",
         "False",
         "False",
         "False",
         "False",
         "False",
         "False",
         "False",
         "False",
         "False",
         "False",
         "False",
         "False",
         "False",
         "False",
         "False",
         "False",
         "False",
         "False",
         "False",
         "False",
         "False",
         "False",
         "False",
         "False",
         "False",
         "False",
         "False",
         "False",
         "False",
         "False",
         "False",
         "False",
         "False",
         "False",
         "False",
         "False",
         "False",
         "False",
         "False",
         "False",
         "False",
         "False",
         "False",
         "False",
         "True",
         "False",
         "False",
         "False",
         "False",
         "False",
         "False",
         "False",
         "False",
         "False",
         "False",
         "False",
         "False",
         "False",
         "False",
         "False",
         "False",
         "False",
         "False",
         "False",
         "False",
         "False",
         "False",
         "False",
         "False",
         "True",
         "False",
         "False",
         "False",
         "False",
         "False",
         "False",
         "False",
         "False",
         "False",
         "False",
         "False",
         "False",
         "False",
         "False",
         "False",
         "False",
         "False",
         "False",
         "False",
         "False",
         "False",
         "True"
        ],
        [
         "1",
         "2.0",
         "8.72",
         "8.0",
         "-8.0",
         "1.0",
         "False",
         "False",
         "False",
         "False",
         "False",
         "False",
         "False",
         "False",
         "False",
         "False",
         "False",
         "False",
         "False",
         "False",
         "False",
         "False",
         "False",
         "False",
         "False",
         "False",
         "False",
         "False",
         "False",
         "False",
         "False",
         "False",
         "False",
         "False",
         "False",
         "False",
         "False",
         "False",
         "False",
         "False",
         "False",
         "False",
         "False",
         "False",
         "False",
         "False",
         "False",
         "False",
         "False",
         "False",
         "False",
         "False",
         "False",
         "False",
         "False",
         "False",
         "False",
         "False",
         "False",
         "False",
         "False",
         "False",
         "False",
         "False",
         "False",
         "False",
         "False",
         "False",
         "False",
         "False",
         "False",
         "False",
         "False",
         "False",
         "False",
         "False",
         "False",
         "True",
         "False",
         "False",
         "False",
         "False",
         "False",
         "False",
         "False",
         "False",
         "False",
         "False",
         "False",
         "False",
         "False",
         "False",
         "False",
         "False",
         "False",
         "False",
         "False",
         "False",
         "False",
         "False",
         "False",
         "False",
         "True",
         "False",
         "False",
         "False",
         "False",
         "False",
         "False",
         "False",
         "False",
         "False",
         "False",
         "False",
         "False",
         "False",
         "False",
         "False",
         "False",
         "False",
         "False",
         "False",
         "False",
         "False",
         "True"
        ],
        [
         "2",
         "18.59",
         "8.72",
         "8.0",
         "-8.0",
         "1.0",
         "False",
         "False",
         "False",
         "False",
         "False",
         "False",
         "False",
         "False",
         "False",
         "False",
         "False",
         "False",
         "False",
         "False",
         "False",
         "False",
         "False",
         "False",
         "False",
         "False",
         "False",
         "False",
         "False",
         "False",
         "False",
         "False",
         "False",
         "False",
         "False",
         "False",
         "False",
         "False",
         "False",
         "False",
         "False",
         "False",
         "False",
         "False",
         "False",
         "False",
         "False",
         "False",
         "False",
         "False",
         "False",
         "False",
         "False",
         "False",
         "False",
         "False",
         "False",
         "False",
         "False",
         "False",
         "False",
         "False",
         "False",
         "False",
         "False",
         "False",
         "False",
         "False",
         "False",
         "False",
         "False",
         "False",
         "False",
         "False",
         "False",
         "False",
         "False",
         "True",
         "False",
         "False",
         "False",
         "False",
         "False",
         "False",
         "False",
         "False",
         "False",
         "False",
         "False",
         "False",
         "False",
         "False",
         "False",
         "False",
         "False",
         "False",
         "False",
         "False",
         "False",
         "False",
         "False",
         "False",
         "True",
         "False",
         "False",
         "False",
         "False",
         "False",
         "False",
         "False",
         "False",
         "False",
         "False",
         "False",
         "False",
         "False",
         "False",
         "False",
         "False",
         "False",
         "False",
         "False",
         "False",
         "False",
         "True"
        ],
        [
         "3",
         "141.46",
         "22.76",
         "13.0",
         "-6.0",
         "1.0",
         "False",
         "False",
         "False",
         "False",
         "False",
         "False",
         "False",
         "False",
         "False",
         "False",
         "False",
         "False",
         "False",
         "False",
         "False",
         "False",
         "False",
         "False",
         "False",
         "False",
         "False",
         "False",
         "False",
         "False",
         "False",
         "False",
         "False",
         "False",
         "False",
         "False",
         "False",
         "False",
         "False",
         "False",
         "False",
         "False",
         "False",
         "False",
         "False",
         "False",
         "False",
         "False",
         "False",
         "False",
         "False",
         "False",
         "False",
         "False",
         "False",
         "False",
         "False",
         "False",
         "False",
         "False",
         "False",
         "False",
         "False",
         "False",
         "False",
         "False",
         "False",
         "True",
         "False",
         "False",
         "False",
         "False",
         "False",
         "False",
         "False",
         "False",
         "False",
         "False",
         "False",
         "False",
         "False",
         "True",
         "False",
         "False",
         "False",
         "False",
         "False",
         "False",
         "False",
         "False",
         "False",
         "False",
         "False",
         "False",
         "False",
         "False",
         "False",
         "False",
         "False",
         "False",
         "False",
         "False",
         "False",
         "False",
         "False",
         "False",
         "False",
         "False",
         "False",
         "False",
         "False",
         "False",
         "False",
         "False",
         "False",
         "False",
         "False",
         "False",
         "False",
         "False",
         "False",
         "False",
         "False",
         "False",
         "True"
        ],
        [
         "4",
         "179.12",
         "19.22",
         "9.0",
         "-18.0",
         "3.0",
         "False",
         "False",
         "False",
         "False",
         "False",
         "False",
         "False",
         "True",
         "False",
         "False",
         "False",
         "False",
         "False",
         "False",
         "False",
         "False",
         "False",
         "False",
         "False",
         "False",
         "False",
         "False",
         "False",
         "False",
         "False",
         "False",
         "False",
         "False",
         "False",
         "False",
         "False",
         "False",
         "False",
         "False",
         "False",
         "False",
         "False",
         "False",
         "False",
         "False",
         "False",
         "False",
         "False",
         "False",
         "False",
         "False",
         "False",
         "False",
         "False",
         "False",
         "False",
         "False",
         "False",
         "False",
         "False",
         "False",
         "False",
         "False",
         "False",
         "False",
         "False",
         "False",
         "False",
         "False",
         "False",
         "False",
         "False",
         "False",
         "False",
         "False",
         "False",
         "False",
         "False",
         "False",
         "False",
         "False",
         "False",
         "False",
         "False",
         "True",
         "False",
         "False",
         "False",
         "False",
         "False",
         "False",
         "False",
         "False",
         "False",
         "False",
         "False",
         "False",
         "False",
         "False",
         "False",
         "False",
         "False",
         "False",
         "False",
         "False",
         "False",
         "False",
         "False",
         "False",
         "False",
         "False",
         "False",
         "False",
         "False",
         "False",
         "False",
         "False",
         "False",
         "False",
         "False",
         "False",
         "False",
         "False",
         "True"
        ]
       ],
       "shape": {
        "columns": 124,
        "rows": 5
       }
      },
      "text/html": [
       "<div>\n",
       "<style scoped>\n",
       "    .dataframe tbody tr th:only-of-type {\n",
       "        vertical-align: middle;\n",
       "    }\n",
       "\n",
       "    .dataframe tbody tr th {\n",
       "        vertical-align: top;\n",
       "    }\n",
       "\n",
       "    .dataframe thead th {\n",
       "        text-align: right;\n",
       "    }\n",
       "</style>\n",
       "<table border=\"1\" class=\"dataframe\">\n",
       "  <thead>\n",
       "    <tr style=\"text-align: right;\">\n",
       "      <th></th>\n",
       "      <th>payment_value</th>\n",
       "      <th>freight_value</th>\n",
       "      <th>tempo_de_entrega</th>\n",
       "      <th>diferenca_estimativa_entrega</th>\n",
       "      <th>payment_installments</th>\n",
       "      <th>product_category_name_alimentos</th>\n",
       "      <th>product_category_name_alimentos_bebidas</th>\n",
       "      <th>product_category_name_artes</th>\n",
       "      <th>product_category_name_artes_e_artesanato</th>\n",
       "      <th>product_category_name_artigos_de_festas</th>\n",
       "      <th>...</th>\n",
       "      <th>seller_state_PE</th>\n",
       "      <th>seller_state_PI</th>\n",
       "      <th>seller_state_PR</th>\n",
       "      <th>seller_state_RJ</th>\n",
       "      <th>seller_state_RN</th>\n",
       "      <th>seller_state_RO</th>\n",
       "      <th>seller_state_RS</th>\n",
       "      <th>seller_state_SC</th>\n",
       "      <th>seller_state_SE</th>\n",
       "      <th>seller_state_SP</th>\n",
       "    </tr>\n",
       "  </thead>\n",
       "  <tbody>\n",
       "    <tr>\n",
       "      <th>0</th>\n",
       "      <td>18.12</td>\n",
       "      <td>8.72</td>\n",
       "      <td>8.0</td>\n",
       "      <td>-8.0</td>\n",
       "      <td>1.0</td>\n",
       "      <td>False</td>\n",
       "      <td>False</td>\n",
       "      <td>False</td>\n",
       "      <td>False</td>\n",
       "      <td>False</td>\n",
       "      <td>...</td>\n",
       "      <td>False</td>\n",
       "      <td>False</td>\n",
       "      <td>False</td>\n",
       "      <td>False</td>\n",
       "      <td>False</td>\n",
       "      <td>False</td>\n",
       "      <td>False</td>\n",
       "      <td>False</td>\n",
       "      <td>False</td>\n",
       "      <td>True</td>\n",
       "    </tr>\n",
       "    <tr>\n",
       "      <th>1</th>\n",
       "      <td>2.00</td>\n",
       "      <td>8.72</td>\n",
       "      <td>8.0</td>\n",
       "      <td>-8.0</td>\n",
       "      <td>1.0</td>\n",
       "      <td>False</td>\n",
       "      <td>False</td>\n",
       "      <td>False</td>\n",
       "      <td>False</td>\n",
       "      <td>False</td>\n",
       "      <td>...</td>\n",
       "      <td>False</td>\n",
       "      <td>False</td>\n",
       "      <td>False</td>\n",
       "      <td>False</td>\n",
       "      <td>False</td>\n",
       "      <td>False</td>\n",
       "      <td>False</td>\n",
       "      <td>False</td>\n",
       "      <td>False</td>\n",
       "      <td>True</td>\n",
       "    </tr>\n",
       "    <tr>\n",
       "      <th>2</th>\n",
       "      <td>18.59</td>\n",
       "      <td>8.72</td>\n",
       "      <td>8.0</td>\n",
       "      <td>-8.0</td>\n",
       "      <td>1.0</td>\n",
       "      <td>False</td>\n",
       "      <td>False</td>\n",
       "      <td>False</td>\n",
       "      <td>False</td>\n",
       "      <td>False</td>\n",
       "      <td>...</td>\n",
       "      <td>False</td>\n",
       "      <td>False</td>\n",
       "      <td>False</td>\n",
       "      <td>False</td>\n",
       "      <td>False</td>\n",
       "      <td>False</td>\n",
       "      <td>False</td>\n",
       "      <td>False</td>\n",
       "      <td>False</td>\n",
       "      <td>True</td>\n",
       "    </tr>\n",
       "    <tr>\n",
       "      <th>3</th>\n",
       "      <td>141.46</td>\n",
       "      <td>22.76</td>\n",
       "      <td>13.0</td>\n",
       "      <td>-6.0</td>\n",
       "      <td>1.0</td>\n",
       "      <td>False</td>\n",
       "      <td>False</td>\n",
       "      <td>False</td>\n",
       "      <td>False</td>\n",
       "      <td>False</td>\n",
       "      <td>...</td>\n",
       "      <td>False</td>\n",
       "      <td>False</td>\n",
       "      <td>False</td>\n",
       "      <td>False</td>\n",
       "      <td>False</td>\n",
       "      <td>False</td>\n",
       "      <td>False</td>\n",
       "      <td>False</td>\n",
       "      <td>False</td>\n",
       "      <td>True</td>\n",
       "    </tr>\n",
       "    <tr>\n",
       "      <th>4</th>\n",
       "      <td>179.12</td>\n",
       "      <td>19.22</td>\n",
       "      <td>9.0</td>\n",
       "      <td>-18.0</td>\n",
       "      <td>3.0</td>\n",
       "      <td>False</td>\n",
       "      <td>False</td>\n",
       "      <td>False</td>\n",
       "      <td>False</td>\n",
       "      <td>False</td>\n",
       "      <td>...</td>\n",
       "      <td>False</td>\n",
       "      <td>False</td>\n",
       "      <td>False</td>\n",
       "      <td>False</td>\n",
       "      <td>False</td>\n",
       "      <td>False</td>\n",
       "      <td>False</td>\n",
       "      <td>False</td>\n",
       "      <td>False</td>\n",
       "      <td>True</td>\n",
       "    </tr>\n",
       "  </tbody>\n",
       "</table>\n",
       "<p>5 rows × 124 columns</p>\n",
       "</div>"
      ],
      "text/plain": [
       "   payment_value  freight_value  tempo_de_entrega  \\\n",
       "0          18.12           8.72               8.0   \n",
       "1           2.00           8.72               8.0   \n",
       "2          18.59           8.72               8.0   \n",
       "3         141.46          22.76              13.0   \n",
       "4         179.12          19.22               9.0   \n",
       "\n",
       "   diferenca_estimativa_entrega  payment_installments  \\\n",
       "0                          -8.0                   1.0   \n",
       "1                          -8.0                   1.0   \n",
       "2                          -8.0                   1.0   \n",
       "3                          -6.0                   1.0   \n",
       "4                         -18.0                   3.0   \n",
       "\n",
       "   product_category_name_alimentos  product_category_name_alimentos_bebidas  \\\n",
       "0                            False                                    False   \n",
       "1                            False                                    False   \n",
       "2                            False                                    False   \n",
       "3                            False                                    False   \n",
       "4                            False                                    False   \n",
       "\n",
       "   product_category_name_artes  product_category_name_artes_e_artesanato  \\\n",
       "0                        False                                     False   \n",
       "1                        False                                     False   \n",
       "2                        False                                     False   \n",
       "3                        False                                     False   \n",
       "4                        False                                     False   \n",
       "\n",
       "   product_category_name_artigos_de_festas  ...  seller_state_PE  \\\n",
       "0                                    False  ...            False   \n",
       "1                                    False  ...            False   \n",
       "2                                    False  ...            False   \n",
       "3                                    False  ...            False   \n",
       "4                                    False  ...            False   \n",
       "\n",
       "   seller_state_PI  seller_state_PR  seller_state_RJ  seller_state_RN  \\\n",
       "0            False            False            False            False   \n",
       "1            False            False            False            False   \n",
       "2            False            False            False            False   \n",
       "3            False            False            False            False   \n",
       "4            False            False            False            False   \n",
       "\n",
       "   seller_state_RO  seller_state_RS  seller_state_SC  seller_state_SE  \\\n",
       "0            False            False            False            False   \n",
       "1            False            False            False            False   \n",
       "2            False            False            False            False   \n",
       "3            False            False            False            False   \n",
       "4            False            False            False            False   \n",
       "\n",
       "   seller_state_SP  \n",
       "0             True  \n",
       "1             True  \n",
       "2             True  \n",
       "3             True  \n",
       "4             True  \n",
       "\n",
       "[5 rows x 124 columns]"
      ]
     },
     "execution_count": 7,
     "metadata": {},
     "output_type": "execute_result"
    }
   ],
   "source": [
    "# --- 7: PRÉ-PROCESSAMENTO (One-Hot Encoding) ---\n",
    "\n",
    "print(\"INIICIANDO O PRÉ-PROCESSAMENTO PARA TRASNFORMAR TEXTO EM NÚMEROS...\")\n",
    "\n",
    "# Utilizando a prática padrão para separar 'pistas' (chamadas de X) do 'alvo' (chamado de y).\n",
    "# X são todas as colunas que o modelo usará para aprender.\n",
    "# y é a coluna que o modelo tentará prever.\n",
    "X = df_model.drop('insatisfeito', axis=1)\n",
    "y = df_model['insatisfeito']\n",
    "\n",
    "# Com pandas vou identificar automaticamente quais colunas são de texto:\n",
    "colunas_categoricas = X.select_dtypes(include=['object']).columns\n",
    "print(f\"\\nESSAS SÃO AS COLUNAS DE TEXTO QUE SERÃO TRASNFOMARDAS: {list(colunas_categoricas)}\")\n",
    "\n",
    "# O pd.get_dummies() faz o One-Hot Encoding.\n",
    "# Ele pega o DataFrame X e transforma apenas as colunas de texto que foi especificada:\n",
    "X_encoded = pd.get_dummies(X, columns=colunas_categoricas, drop_first=True)\n",
    "\n",
    "# O 'drop_first=True' é uma boa prática em ML. Ele remove uma das categorias de cada feature\n",
    "# para evitar redundância de informação, o que pode ajudar alguns modelos.\n",
    "\n",
    "print(f\"\\nPRÉ-PROCESSAMENTO CONCLUÍDO!\")\n",
    "print(f\"O número de colunas (features) aumentou de {len(X.columns)} para {len(X_encoded.columns)}.\")\n",
    "\n",
    "print(\"\\n--- Amostra do DataFrame 100% Numérico ('X_encoded') ---\")\n",
    "# Note como 'product_category_name_automotivo', 'customer_state_ES', etc., apareceram.\n",
    "X_encoded.head()"
   ]
  },
  {
   "cell_type": "markdown",
   "id": "e984bc14",
   "metadata": {},
   "source": [
    "### Divisão em Treino e Teste: (Train-Test Split).\n",
    "\n",
    "Para avaliar o modelo de forma justa, não posso testá-lo com os mesmos dados que utilizei para treiná-lo. Isso seria como dar as respostas da prova para o aluno antes. Por isso, dividir o dataset em um conjunto de treino (80%) e um conjunto de teste (20%)."
   ]
  },
  {
   "cell_type": "code",
   "execution_count": null,
   "id": "4f2037f4",
   "metadata": {},
   "outputs": [
    {
     "name": "stdout",
     "output_type": "stream",
     "text": [
      "--- INICIANDO A DIVISÃO DOS DADOS EM CONJUTOS DE TREINOS E TESTE... ---\n",
      "\n",
      "DIVISÃO CONCLUÍDA COM SUCESSO!\n",
      "\n",
      "Formato de X_train (pistas de treino): (91264, 124)\n",
      "Formato de y_train (alvos de treino):  (91264,)\n",
      "Formato de X_test (pistas de teste):   (22817, 124)\n",
      "Formato de y_test (alvos de teste):    (22817,)\n"
     ]
    }
   ],
   "source": [
    "# --- 8: DIVISÃO DE DADOS EM TREINO E TESTE ---\n",
    "\n",
    "from sklearn.model_selection import train_test_split \n",
    "\n",
    "print(\"--- INICIANDO A DIVISÃO DOS DADOS EM CONJUTOS DE TREINOS E TESTE... ---\")\n",
    "\n",
    "# A função train_test_split é a ferramenta para isso.\n",
    "# Ela vai embaralhar os dados e dividi-los.\n",
    "X_train, X_test, y_train, y_test = train_test_split(\n",
    "    X_encoded, \n",
    "    y, \n",
    "    test_size=0.2,    # Aqui define que 20% dos dados serão para o conjunto de TESTE. Os 80% restantes serão para TREINO.\n",
    "    random_state=42   # Este número é embaralhamento. Usar o mesmo número\n",
    "                      # garante que a divisão seja sempre a mesma toda vez que rodar o código.\n",
    "                      # Isso é CRUCIAL para que o resultados sejam reprodutíveis. 42 é uma convenção clássica.\n",
    ")\n",
    "\n",
    "print(\"\\nDIVISÃO CONCLUÍDA COM SUCESSO!\")\n",
    "\n",
    "# --- 10: VERIFICAÇÃO ---\n",
    "\n",
    "# Vai verificar os \"shapes\" (formatos) dos novos Dataframes para confirmar que a divisão funcionou.\n",
    "print(f\"\\nFormato de X_train (pistas de treino): {X_train.shape}\")\n",
    "print(f\"Formato de y_train (alvos de treino):  {y_train.shape}\")\n",
    "print(f\"Formato de X_test (pistas de teste):   {X_test.shape}\")\n",
    "print(f\"Formato de y_test (alvos de teste):    {y_test.shape}\")"
   ]
  },
  {
   "cell_type": "markdown",
   "id": "0be2c871",
   "metadata": {},
   "source": [
    "    TREINO DO MODELO (RandomForestClassifier)"
   ]
  },
  {
   "cell_type": "code",
   "execution_count": null,
   "id": "7164aac4",
   "metadata": {},
   "outputs": [
    {
     "name": "stdout",
     "output_type": "stream",
     "text": [
      "--- INICIANDO O TREINAMENTO DO MODELO ---> RandomForest ---\n",
      "\n",
      "✅ TREINAMENTO CONCLUÍDO COM SUCESSO!\n"
     ]
    }
   ],
   "source": [
    "# --- 9: TREINANDO O MODELO ---\n",
    "\n",
    "from sklearn.ensemble import RandomForestClassifier\n",
    "from sklearn.metrics import accuracy_score # Usaremos isso no próximo passo!\n",
    "\n",
    "# --- TREINAMENTO DO MODELO DE MACHINE LEARNING ---\n",
    "\n",
    "print(\"--- INICIANDO O TREINAMENTO DO MODELO ---> RandomForest ---\")\n",
    "\n",
    "# 1. Criando o modelo:\n",
    "#    - n_estimators=100: Diz que a 'floresta' terá 100 'árvores'.\n",
    "#    - random_state=42: Garante que o resultado seja o mesmo toda vez que rodar. Consistência é chave!\n",
    "#    - n_jobs=-1: Diz ao modelo para usar todos os processadores do computador para treinar mais rápido.\n",
    "modelo = RandomForestClassifier(n_estimators=100, random_state=42, n_jobs=-1)\n",
    "\n",
    "\n",
    "# 2. O Processo de Treinamento:\n",
    "#    A função .fit() é o coração do Machine Learning. É aqui onde o modelo vai \"lê\" as pistas (X_train) e as respostas (y_train) para aprender os padrões.\n",
    "modelo.fit(X_train, y_train)\n",
    "\n",
    "\n",
    "print(\"\\n✅ TREINAMENTO CONCLUÍDO COM SUCESSO!\")\n",
    "\n",
    "# O que temos agora? A variável 'modelo' não é mais um aluno vazio.\n",
    "# Agora, ele é um 'aluno treinado', pronto para ser testado na 'prova final'."
   ]
  },
  {
   "cell_type": "markdown",
   "id": "d57e7759",
   "metadata": {},
   "source": [
    "    AVALIANDO O MODELO COM DADOS DE TESTE"
   ]
  },
  {
   "cell_type": "code",
   "execution_count": 10,
   "id": "055d7a29",
   "metadata": {},
   "outputs": [
    {
     "name": "stdout",
     "output_type": "stream",
     "text": [
      "--- INICIANDO A AVALIAÇÃO DO MODELO NO CONJUTO DE TESTE ---\n",
      "\n",
      "--- PERFORMANCE DO MODELO ---\n",
      "A acurácia do primeiro modelo é: 85.06%\n"
     ]
    }
   ],
   "source": [
    "# --- 10: AVALIAÇÃO DO MODELO COM DADOS DE TESTE ---\n",
    "\n",
    "from sklearn.metrics import accuracy_score\n",
    "\n",
    "print(\"--- INICIANDO A AVALIAÇÃO DO MODELO NO CONJUTO DE TESTE ---\")\n",
    "\n",
    "# 1. Fazendo as Previsões:\n",
    "#    Usarei a função .predict() para pedir ao modelo treinado que me dê. As previsões para os dados de teste (X_test).\n",
    "previsoes = modelo.predict(X_test)\n",
    "\n",
    "\n",
    "# 2. Calculando a Acurácia:\n",
    "#    Aqui vou compar as previsões que o modelo fez ('previsoes') com as respostas corretas que já tínha ('y_test').\n",
    "#    A função accuracy_score faz essa comparação para dá a porcentagem dos acertos.\n",
    "acuracia = accuracy_score(y_test, previsoes)\n",
    "\n",
    "\n",
    "print(\"\\n--- PERFORMANCE DO MODELO ---\")\n",
    "\n",
    "# Multiplicarei por 100 e formatarei para ficar em formato de porcentagem.\n",
    "print(f\"A acurácia do primeiro modelo é: {acuracia * 100:.2f}%\")\n",
    "\n",
    "# Obs: O que isso significa?\n",
    "# Ex: Se der 90.00%, significa que o modelo acertou a previsão (satisfeito/insatisfeito)\n",
    "# para 90% dos clientes no conjunto de teste."
   ]
  },
  {
   "cell_type": "code",
   "execution_count": 11,
   "id": "f05c6e22",
   "metadata": {},
   "outputs": [
    {
     "name": "stdout",
     "output_type": "stream",
     "text": [
      "insatisfeito\n",
      "0    0.76947\n",
      "1    0.23053\n",
      "Name: proportion, dtype: float64\n"
     ]
    }
   ],
   "source": [
    "# 11: VERIFICANDO A DISTRIBUIÇÃO DO GABARITO DE TESTE --- \n",
    "print(y_test.value_counts(normalize=True))"
   ]
  },
  {
   "cell_type": "markdown",
   "id": "519ebe04",
   "metadata": {},
   "source": [
    "    Matriz de Confusão"
   ]
  },
  {
   "cell_type": "code",
   "execution_count": 12,
   "id": "70ff6cde",
   "metadata": {},
   "outputs": [
    {
     "name": "stdout",
     "output_type": "stream",
     "text": [
      "Gerando a Matriz de Confusão para entender os tipos de erro...\n"
     ]
    },
    {
     "data": {
      "image/png": "[encoded data removed]",
      "text/plain": [
       "<Figure size 800x600 with 2 Axes>"
      ]
     },
     "metadata": {},
     "output_type": "display_data"
    }
   ],
   "source": [
    "# --- MATRIZ DE CONFUSÃO ---\n",
    "\n",
    "from sklearn.metrics import confusion_matrix\n",
    "import seaborn as sns\n",
    "\n",
    "# --- 12: ANÁLISE PROFUNDA DOS ERROS (Matriz de Confusão) ---\n",
    "\n",
    "print(\"Gerando a Matriz de Confusão para entender os tipos de erro...\")\n",
    "\n",
    "# A função confusion_matrix vai cria a tabela de resultados 2x2\n",
    "cm = confusion_matrix(y_test, previsoes)\n",
    "\n",
    "# Criando o gráfico com Seaborn para uma visualização clara (heatmap)\n",
    "plt.figure(figsize=(8, 6))\n",
    "sns.heatmap(cm, annot=True, fmt='d', cmap='Blues', \n",
    "            xticklabels=['Previsto Satisfeito (0)', 'Previsto Insatisfeito (1)'],\n",
    "            yticklabels=['Real Satisfeito (0)', 'Real Insatisfeito (1)'])\n",
    "\n",
    "plt.title('Matriz de Confusão', fontsize=16, fontweight='bold')\n",
    "plt.ylabel('Realidade (O que Aconteceu)')\n",
    "plt.xlabel('Previsão do Modelo')\n",
    "plt.show()"
   ]
  },
  {
   "cell_type": "markdown",
   "id": "85fb6c23",
   "metadata": {},
   "source": [
    "    RELATÓRIO DE CLASSIFICAÇÃO"
   ]
  },
  {
   "cell_type": "code",
   "execution_count": 13,
   "id": "bee38072",
   "metadata": {},
   "outputs": [
    {
     "name": "stdout",
     "output_type": "stream",
     "text": [
      "--- GERANDO O RELATÓRIO DE CLASSIFICAÇÃO DETALHADO ---\n",
      "              precision    recall  f1-score   support\n",
      "\n",
      "           0       0.85      0.97      0.91     17557\n",
      "           1       0.84      0.44      0.57      5260\n",
      "\n",
      "    accuracy                           0.85     22817\n",
      "   macro avg       0.84      0.71      0.74     22817\n",
      "weighted avg       0.85      0.85      0.83     22817\n",
      "\n"
     ]
    }
   ],
   "source": [
    "# --- 13: MÉTRICAS AVANÇADAS DE PERFORMANCE ---\n",
    "\n",
    "from sklearn.metrics import classification_report\n",
    "\n",
    "print(\"--- GERANDO O RELATÓRIO DE CLASSIFICAÇÃO DETALHADO ---\")\n",
    "\n",
    "# A função classification_report vai da a Precisão, Revocação e F1-Score para cada classe.\n",
    "# Classe 0 = Satisfeito\n",
    "# Classe 1 = Insatisfeito\n",
    "report = classification_report(y_test, previsoes)\n",
    "\n",
    "print(report)"
   ]
  },
  {
   "cell_type": "markdown",
   "id": "5d2539a2",
   "metadata": {},
   "source": [
    "### Refinamento: Lidando com o Desbalanceamento de Classes com SMOTE\n",
    "\n",
    "Na primeira avaliação o modelo mostrou dificuldade em identificar a classe minoritária (clientes insatisfeitos). Isso ocorreu porque o dataset é desbalanceado. Para tentar corrigir isso, apliquei a técnica **SMOTE (Synthetic Minority Over-sampling Technique)**, que cria exemplos sintéticos da classe minoritária no conjunto de treino, forçando o modelo a aprender seus padrões de forma mais robusta."
   ]
  },
  {
   "cell_type": "code",
   "execution_count": 14,
   "id": "f75d3b8e",
   "metadata": {},
   "outputs": [
    {
     "name": "stdout",
     "output_type": "stream",
     "text": [
      "Balanceando o conjunto de treino com SMOTE...\n",
      "Composição original do treino: Counter({0: 70275, 1: 20989})\n",
      "Composição do treino após o SMOTE: Counter({0: 70275, 1: 70275})\n",
      "Conjunto de treino balanceado com sucesso!\n",
      "\n",
      "Iniciando o treinamento do MODELO COM SMOTE...\n",
      "✅ Treinamento concluído!\n",
      "\n",
      "--- Avaliando o Modelo com SMOTE ---\n",
      "A NOVA acurácia do modelo com SMOTE é: 84.38%\n",
      "\n",
      "NOVO Relatório de Classificação:\n",
      "              precision    recall  f1-score   support\n",
      "\n",
      "           0       0.86      0.96      0.90     17557\n",
      "           1       0.77      0.46      0.58      5260\n",
      "\n",
      "    accuracy                           0.84     22817\n",
      "   macro avg       0.81      0.71      0.74     22817\n",
      "weighted avg       0.84      0.84      0.83     22817\n",
      "\n"
     ]
    }
   ],
   "source": [
    "from imblearn.over_sampling import SMOTE\n",
    "from sklearn.ensemble import RandomForestClassifier\n",
    "from sklearn.metrics import classification_report, accuracy_score\n",
    "import collections\n",
    "\n",
    "# --- 14: Balanceando os Dados de Treino com SMOTE ---\n",
    "\n",
    "print(\"Balanceando o conjunto de treino com SMOTE...\")\n",
    "print(f\"Composição original do treino: {collections.Counter(y_train)}\")\n",
    "\n",
    "# 1. Criando um \"personal trainer\"😁 SMOTE\n",
    "smote = SMOTE(random_state=42)\n",
    "\n",
    "# 2. Aplicando o SMOTE APENAS nos dados de treino\n",
    "#    O .fit_resample() irá criar os novos exemplos sintéticos\n",
    "X_train_resampled, y_train_resampled = smote.fit_resample(X_train, y_train)\n",
    "\n",
    "print(f\"Composição do treino após o SMOTE: {collections.Counter(y_train_resampled)}\")\n",
    "print(\"Conjunto de treino balanceado com sucesso!\")\n",
    "\n",
    "# --------------------------------------------------------------------------------------------\n",
    "\n",
    "# --- 15: TREINANDO UM NOVO MODELO COM OS DADOS BALANCEADOS ---\n",
    "\n",
    "print(\"\\nIniciando o treinamento do MODELO COM SMOTE...\")\n",
    "\n",
    "modelo_smote = RandomForestClassifier(\n",
    "    n_estimators=100, \n",
    "    random_state=42, \n",
    "    n_jobs=-1\n",
    ")\n",
    "\n",
    "# Treinando o novo modelo com os dados \"turbinados\" pelo SMOTE\n",
    "modelo_smote.fit(X_train_resampled, y_train_resampled)\n",
    "print(\"✅ Treinamento concluído!\")\n",
    "\n",
    "\n",
    "# --- AVALIAÇÃO DO MODELO SMOTE ---\n",
    "print(\"\\n--- Avaliando o Modelo com SMOTE ---\")\n",
    "previsoes_smote = modelo_smote.predict(X_test)\n",
    "acuracia_smote = accuracy_score(y_test, previsoes_smote)\n",
    "report_smote = classification_report(y_test, previsoes_smote)\n",
    "\n",
    "print(f\"A NOVA acurácia do modelo com SMOTE é: {acuracia_smote * 100:.2f}%\")\n",
    "print(\"\\nNOVO Relatório de Classificação:\")\n",
    "print(report_smote)"
   ]
  },
  {
   "cell_type": "markdown",
   "id": "06631fa4",
   "metadata": {},
   "source": [
    "    Análise de Importância de Features (Feature Importance)."
   ]
  },
  {
   "cell_type": "code",
   "execution_count": null,
   "id": "de080e70",
   "metadata": {},
   "outputs": [
    {
     "name": "stdout",
     "output_type": "stream",
     "text": [
      "Extraindo os fatores mais importantes que o modelo aprendeu...\n"
     ]
    },
    {
     "data": {
      "image/png": "[encoded data removed]",
      "text/plain": [
       "<Figure size 1200x800 with 1 Axes>"
      ]
     },
     "metadata": {},
     "output_type": "display_data"
    },
    {
     "name": "stdout",
     "output_type": "stream",
     "text": [
      "\n",
      "--- Top 15 Fatores de Insatisfação ---\n",
      "                                          Feature  Importance\n",
      "3                    diferenca_estimativa_entrega    0.145201\n",
      "0                                   payment_value    0.129238\n",
      "2                                tempo_de_entrega    0.128115\n",
      "1                                   freight_value    0.109408\n",
      "4                            payment_installments    0.078143\n",
      "123                               seller_state_SP    0.025853\n",
      "101                             customer_state_SP    0.021968\n",
      "94                              customer_state_RJ    0.019877\n",
      "17          product_category_name_cama_mesa_banho    0.019066\n",
      "86                              customer_state_MG    0.015240\n",
      "109                               seller_state_MG    0.014427\n",
      "58         product_category_name_moveis_decoracao    0.013629\n",
      "116                               seller_state_PR    0.013463\n",
      "48   product_category_name_informatica_acessorios    0.012808\n",
      "15             product_category_name_beleza_saude    0.012271\n"
     ]
    }
   ],
   "source": [
    "# --- 16: INTERPRETANDO O MODELO (Feature Importance) ---\n",
    "\n",
    "# --- INTERPRETAÇÃO DO MODELO E INSIGHTS DE NEGÓCIO ---\n",
    "print(\"Extraindo os fatores mais importantes que o modelo aprendeu...\")\n",
    "\n",
    "# 1. Extraindo a importância de cada feature do modelo treinado:\n",
    "# O atributo .feature_importances_ vai me dá um score para cada uma das 124 colunas.\n",
    "importances = modelo_smote.feature_importances_\n",
    "\n",
    "# 2. Criando um Dataframe para facilitar a visualização:\n",
    "# Juntando os nomes das colunas com seus respectivos scores de importância.\n",
    "feature_importance_df = pd.DataFrame({\n",
    "    'Feature': X_encoded.columns,\n",
    "    'Importance': importances\n",
    "}).sort_values(by='Importance', ascending=False)\n",
    "\n",
    "# Pegando apenas as 15 features mais importantes para o gráfico:\n",
    "top_15_features = feature_importance_df.head(15)\n",
    "\n",
    "\n",
    "# --- Visualização ---\n",
    "plt.figure(figsize=(12, 8))\n",
    "ax = sns.barplot(\n",
    "    x='Importance',\n",
    "    y='Feature',\n",
    "    data=top_15_features,\n",
    "    palette='rocket',\n",
    "    hue='Feature',\n",
    "    legend=False,\n",
    "    orient='h'\n",
    ")\n",
    "\n",
    "# Títulos e design\n",
    "plt.title('As 15 Pistas Mais Importantes para Prever a Insatisfação do Cliente', fontsize=18, fontweight='bold')\n",
    "plt.xlabel('Importância Relativa (Score)', fontsize=12)\n",
    "plt.ylabel('Fator (Feature)', fontsize=12)\n",
    "sns.despine()\n",
    "\n",
    "# Adicionando os valores exatos nas barras\n",
    "for container in ax.containers:\n",
    "    ax.bar_label(container, fmt='%.3f', padding=3)\n",
    "\n",
    "ax.set_xlim(0, ax.get_xlim()[1] * 1.05)\n",
    "plt.tight_layout()\n",
    "plt.show()\n",
    "\n",
    "print(\"\\n--- Top 15 Fatores de Insatisfação ---\")\n",
    "print(top_15_features)"
   ]
  },
  {
   "cell_type": "markdown",
   "id": "04e90533",
   "metadata": {},
   "source": [
    "### Conclusão e Insights do Modelo\n",
    "\n",
    "**Conclusão:** O gráfico de importância de features confirma a principal descoberta da EDA: o **tempo de entrega** é, de longe, o fator mais importante para prever a insatisfação do cliente. Fatores como o valor do frete e o atraso em relação à estimativa também são altamente relevantes.\n",
    "\n",
    "**Recomendação Acionável:** A principal recomendação de negócio é que a empresa foque em otimizar sua logística para reduzir o tempo de entrega. Investimentos nessa área terão o maior impacto direto na satisfação e retenção de clientes."
   ]
  },
  {
   "attachments": {
    "image.png": {
     "image/png": "[encoded data removed]"
    }
   },
   "cell_type": "markdown",
   "id": "562a692f",
   "metadata": {},
   "source": [
    "## FIM\n",
    "![image.png](attachment:image.png)"
   ]
  }
 ],
 "metadata": {
  "kernelspec": {
   "display_name": ".venv",
   "language": "python",
   "name": "python3"
  },
  "language_info": {
   "codemirror_mode": {
    "name": "ipython",
    "version": 3
   },
   "file_extension": ".py",
   "mimetype": "text/x-python",
   "name": "python",
   "nbconvert_exporter": "python",
   "pygments_lexer": "ipython3",
   "version": "3.12.7"
  }
 },
 "nbformat": 4,
 "nbformat_minor": 5
}
